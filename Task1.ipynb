{
  "cells": [
    {
      "cell_type": "markdown",
      "metadata": {
        "id": "6WYMfvCNPwpm"
      },
      "source": [
        "# Project B: Knowledge Distillation for Building Lightweight Deep Learning Models in Visual Classification Tasks"
      ]
    },
    {
      "cell_type": "code",
      "execution_count": null,
      "metadata": {
        "colab": {
          "base_uri": "https://localhost:8080/"
        },
        "id": "GQ3rzFHmeJKh",
        "outputId": "1f5cfbf6-7096-4218-d9da-e0ef4f08c119"
      },
      "outputs": [
        {
          "output_type": "stream",
          "name": "stdout",
          "text": [
            "Drive already mounted at /content/gdrive; to attempt to forcibly remount, call drive.mount(\"/content/gdrive\", force_remount=True).\n"
          ]
        }
      ],
      "source": [
        "from google.colab import drive\n",
        "drive.mount('/content/gdrive')\n",
        "import os\n",
        "os.chdir(\"/content/gdrive/My Drive\")"
      ]
    },
    {
      "cell_type": "code",
      "execution_count": null,
      "metadata": {
        "id": "vA8ppgB2P0aJ"
      },
      "outputs": [],
      "source": [
        "import tensorflow.compat.v2 as tf\n",
        "#import tensorflow as tf\n",
        "import tensorflow_datasets as tfds\n",
        "from typing import Union\n",
        "\n",
        "from tensorflow.keras import datasets, layers, models\n",
        "import os\n",
        "import numpy as np\n",
        "import pandas as pd\n",
        "import keras\n",
        "from keras.preprocessing.image import ImageDataGenerator\n",
        "from keras.models import Sequential\n",
        "from keras.layers import Conv2D, MaxPooling2D, GlobalAveragePooling2D, Dense, Flatten\n",
        "from keras import regularizers\n",
        "import keras.backend \n",
        "from keras.models import load_model\n",
        "from tensorflow.core.util import event_pb2\n",
        "from tensorflow.python.lib.io import tf_record\n",
        "import matplotlib.pyplot as plt\n",
        "from tensorflow.keras.losses import categorical_crossentropy\n",
        "import sklearn.metrics as metrics\n",
        "import cv2\n",
        "\n",
        "tf.enable_v2_behavior()\n",
        "\n",
        "builder = tfds.builder('mnist')\n",
        "BATCH_SIZE = 256\n",
        "NUM_EPOCHS = 12\n",
        "NUM_CLASSES = 10  # 10 total classes."
      ]
    },
    {
      "cell_type": "markdown",
      "metadata": {
        "id": "H2EFLQROP2R7"
      },
      "source": [
        "# Data loading"
      ]
    },
    {
      "cell_type": "code",
      "execution_count": null,
      "metadata": {
        "colab": {
          "base_uri": "https://localhost:8080/",
          "height": 197,
          "referenced_widgets": [
            "09f90585373846c9bb21e78efa73a5d4",
            "edab666a3085415a8d119dfe0462b8ba",
            "ed7c8ccd23f349dd9684e4361844c0df",
            "8c2ff90bcb364a2fae6f8a8f9a65dd18",
            "7490e9ba964e4484a29278302ba87294",
            "95ec4c96d86049b3a40d8a4b980dbf07",
            "d2baab0cfb564b7789e71a33c9d50300",
            "8664399bc4a54e928e1c85d339fdc5c8",
            "524c623dc49b434da40ea76c291032bf",
            "aa54e3844041417c856a2ac4a024fc23",
            "2e77dbdd276a49f596f29c4f7f5079eb"
          ]
        },
        "id": "ynByMG_UP4A4",
        "outputId": "853ff599-79c5-4624-98d7-bd27501becb6"
      },
      "outputs": [
        {
          "output_type": "stream",
          "name": "stdout",
          "text": [
            "\u001b[1mDownloading and preparing dataset mnist/3.0.1 (download: 11.06 MiB, generated: 21.00 MiB, total: 32.06 MiB) to /root/tensorflow_datasets/mnist/3.0.1...\u001b[0m\n"
          ]
        },
        {
          "output_type": "stream",
          "name": "stderr",
          "text": [
            "WARNING:absl:Dataset mnist is hosted on GCS. It will automatically be downloaded to your\n",
            "local data directory. If you'd instead prefer to read directly from our public\n",
            "GCS bucket (recommended if you're running on GCP), you can instead pass\n",
            "`try_gcs=True` to `tfds.load` or set `data_dir=gs://tfds-data/datasets`.\n",
            "\n"
          ]
        },
        {
          "output_type": "display_data",
          "data": {
            "text/plain": [
              "Dl Completed...:   0%|          | 0/4 [00:00<?, ? file/s]"
            ],
            "application/vnd.jupyter.widget-view+json": {
              "version_major": 2,
              "version_minor": 0,
              "model_id": "09f90585373846c9bb21e78efa73a5d4"
            }
          },
          "metadata": {}
        },
        {
          "output_type": "stream",
          "name": "stdout",
          "text": [
            "\n",
            "\u001b[1mDataset mnist downloaded and prepared to /root/tensorflow_datasets/mnist/3.0.1. Subsequent calls will reuse this data.\u001b[0m\n"
          ]
        }
      ],
      "source": [
        "# Load train and test splits.\n",
        "def preprocess(x):\n",
        "  image = tf.image.convert_image_dtype(x['image'], tf.float32)\n",
        "  subclass_labels = tf.one_hot(x['label'], builder.info.features['label'].num_classes)\n",
        "  return image, subclass_labels\n",
        "\n",
        "\n",
        "mnist_train = tfds.load('mnist', split='train', shuffle_files=False).cache()\n",
        "mnist_train = mnist_train.map(preprocess)\n",
        "mnist_train = mnist_train.shuffle(builder.info.splits['train'].num_examples)\n",
        "mnist_train = mnist_train.batch(BATCH_SIZE, drop_remainder=True)\n",
        "\n",
        "mnist_test = tfds.load('mnist', split='test').cache()\n",
        "mnist_test = mnist_test.map(preprocess).batch(BATCH_SIZE)\n"
      ]
    },
    {
      "cell_type": "markdown",
      "metadata": {
        "id": "kAZwfvW5P63q"
      },
      "source": [
        "# Model creation"
      ]
    },
    {
      "cell_type": "code",
      "execution_count": null,
      "metadata": {
        "id": "zINgDkA7P7BP"
      },
      "outputs": [],
      "source": [
        "# Build CNN teacher.\n",
        "cnn_model = tf.keras.Sequential()\n",
        "\n",
        "# your code start from here for stpe 2\n",
        "cnn_model.add(layers.Conv2D(32, kernel_size=(3, 3), padding='same', activation='relu',strides=(1, 1)))\n",
        "cnn_model.add(layers.MaxPooling2D(pool_size=(2, 2),strides=(1, 1)))\n",
        "cnn_model.add(layers.Conv2D(64, kernel_size=(3, 3), padding='same', activation='relu',strides=(1, 1)))\n",
        "cnn_model.add(layers.MaxPooling2D(pool_size=(2, 2),strides=(2, 2)))\n",
        "cnn_model.add(layers.Flatten())\n",
        "cnn_model.add(layers.Dropout(rate=0.5))\n",
        "cnn_model.add(layers.Dense(128,activation='relu'))\n",
        "cnn_model.add(layers.Dropout(rate=0.5))\n",
        "cnn_model.add(layers.Dense(10))\n",
        "cnn_model.build((256, 28, 28, 1))\n"
      ]
    },
    {
      "cell_type": "code",
      "execution_count": null,
      "metadata": {
        "id": "4j-l6hneGrA9"
      },
      "outputs": [],
      "source": [
        "# Build fully connected student.\n",
        "fc_model = tf.keras.Sequential()\n",
        "fc_model.add(layers.Flatten())\n",
        "fc_model.add(layers.Dense(784,activation='relu'))\n",
        "fc_model.add(layers.Dense(784,activation='relu'))\n",
        "fc_model.add(layers.Dense(10))\n",
        "fc_model.build((256, 28, 28, 1))"
      ]
    },
    {
      "cell_type": "markdown",
      "metadata": {
        "id": "8JWGucyrQGav"
      },
      "source": [
        "# Teacher loss function"
      ]
    },
    {
      "cell_type": "code",
      "execution_count": null,
      "metadata": {
        "id": "DhzBP6ZLQJ57"
      },
      "outputs": [],
      "source": [
        "@tf.function\n",
        "def compute_teacher_loss(images, labels):\n",
        "  \"\"\"Compute subclass knowledge distillation teacher loss for given images\n",
        "     and labels.\n",
        "\n",
        "  Args:\n",
        "    images: Tensor representing a batch of images.\n",
        "    labels: Tensor representing a batch of labels.\n",
        "\n",
        "  Returns:\n",
        "    Scalar loss Tensor.\n",
        "  \"\"\"\n",
        "  subclass_logits = cnn_model(images, training=True)\n",
        "  # Compute cross-entropy loss for subclasses.\n",
        "\n",
        "  # your code start from here for step 3\n",
        "  cce = tf.keras.losses.CategoricalCrossentropy(from_logits=True)\n",
        "  cross_entropy_loss_value = cce(labels, subclass_logits)\n",
        "  #print(cross_entropy_loss_value)\n",
        "  return cross_entropy_loss_value\n",
        "\n"
      ]
    },
    {
      "cell_type": "markdown",
      "metadata": {
        "id": "JS8xkuH0QbOS"
      },
      "source": [
        "# Student loss function"
      ]
    },
    {
      "cell_type": "code",
      "execution_count": null,
      "metadata": {
        "id": "lDKia4gPQMIr"
      },
      "outputs": [],
      "source": [
        "\n",
        "# Hyperparameters for distillation (need to be tuned).\n",
        "ALPHA = 0.5 # task balance between cross-entropy and distillation loss\n",
        "DISTILLATION_TEMPERATURE = 4. #temperature hyperparameter\n",
        "\n",
        "def distillation_loss(teacher_logits: tf.Tensor, student_logits: tf.Tensor,\n",
        "                      temperature: Union[float, tf.Tensor]):\n",
        "  \"\"\"Compute distillation loss.\n",
        "\n",
        "  This function computes cross entropy between softened logits and softened\n",
        "  targets. The resulting loss is scaled by the squared temperature so that\n",
        "  the gradient magnitude remains approximately constant as the temperature is\n",
        "  changed. For reference, see Hinton et al., 2014, \"Distilling the knowledge in\n",
        "  a neural network.\"\n",
        "\n",
        "  Args:\n",
        "    teacher_logits: A Tensor of logits provided by the teacher.\n",
        "    student_logits: A Tensor of logits provided by the student, of the same\n",
        "      shape as `teacher_logits`.\n",
        "    temperature: Temperature to use for distillation.\n",
        "\n",
        "  Returns:\n",
        "    A scalar Tensor containing the distillation loss.\n",
        "  \"\"\"\n",
        " # your code start from here for step 3\n",
        "  soft_targets = keras.backend.softmax(teacher_logits/temperature) #softmax of teacher logits\n",
        "  \n",
        "  return tf.reduce_mean(\n",
        "      tf.nn.softmax_cross_entropy_with_logits(\n",
        "          soft_targets, student_logits / temperature)) * temperature ** 2\n",
        "\n",
        "def compute_student_loss(images, labels):\n",
        "  \"\"\"Compute subclass knowledge distillation student loss for given images\n",
        "     and labels.\n",
        "\n",
        "  Args:\n",
        "    images: Tensor representing a batch of images.\n",
        "    labels: Tensor representing a batch of labels.\n",
        "\n",
        "  Returns:\n",
        "    Scalar loss Tensor.\n",
        "  \"\"\"\n",
        "  student_subclass_logits = fc_model(images, training=True)\n",
        "\n",
        "  # Compute subclass distillation loss between student subclass logits and\n",
        "  # softened teacher subclass targets probabilities.\n",
        "\n",
        "  # your code start from here for step 3\n",
        "\n",
        "  teacher_subclass_logits = cnn_model(images, training=False)\n",
        "  distillation_loss_value = distillation_loss(teacher_subclass_logits, student_subclass_logits,\n",
        "                      DISTILLATION_TEMPERATURE)\n",
        "  #print(\"distillation_loss_value\")\n",
        "  #print(distillation_loss_value)\n",
        "  \n",
        "  # Compute cross-entropy loss with hard targets.\n",
        "\n",
        "  # your code start from here for step 3\n",
        "\n",
        "  #cross_entropy_loss_value = keras.backend.softmax(student_subclass_logits)\n",
        "  cce = tf.keras.losses.CategoricalCrossentropy(from_logits=True)\n",
        "  cross_entropy_loss_value = cce(labels, student_subclass_logits)\n",
        "  return ALPHA * cross_entropy_loss_value + (1- ALPHA) * distillation_loss_value"
      ]
    },
    {
      "cell_type": "markdown",
      "metadata": {
        "id": "RJ1uyvurQ3w4"
      },
      "source": [
        "# Train and evaluation"
      ]
    },
    {
      "cell_type": "code",
      "execution_count": null,
      "metadata": {
        "id": "EtoLbp8uQ4Vl"
      },
      "outputs": [],
      "source": [
        "@tf.function\n",
        "def compute_num_correct(model, images, labels):\n",
        "  \"\"\"Compute number of correctly classified images in a batch.\n",
        "\n",
        "  Args:\n",
        "    model: Instance of tf.keras.Model.\n",
        "    images: Tensor representing a batch of images.\n",
        "    labels: Tensor representing a batch of labels.\n",
        "\n",
        "  Returns:\n",
        "    Number of correctly classified images.\n",
        "  \"\"\"\n",
        "  class_logits = model(images, training=False)\n",
        "  return tf.reduce_sum(\n",
        "      tf.cast(tf.math.equal(tf.argmax(class_logits, -1), tf.argmax(labels, -1)),\n",
        "              tf.float32)), tf.argmax(class_logits, -1), tf.argmax(labels, -1)\n",
        "\n",
        "\n",
        "def train_and_evaluate(model, compute_loss_fn):\n",
        "  \"\"\"Perform training and evaluation for a given model.\n",
        "\n",
        "  Args:\n",
        "    model: Instance of tf.keras.Model.\n",
        "    compute_loss_fn: A function that computes the training loss given the\n",
        "      images, and labels.\n",
        "  \"\"\"\n",
        "\n",
        "  # your code start from here for step 4\n",
        "  optimizer = tf.keras.optimizers.Adam(learning_rate=0.001)\n",
        "\n",
        "  for epoch in range(1, NUM_EPOCHS + 1):\n",
        "    # Run training.\n",
        "    print('Epoch {}: '.format(epoch), end='')\n",
        "    for images, labels in mnist_train:\n",
        "      with tf.GradientTape() as tape:\n",
        "         # your code start from here for step 4\n",
        "\n",
        "        loss_value = compute_loss_fn(images, labels)\n",
        "\n",
        "      grads = tape.gradient(loss_value, model.trainable_variables)\n",
        "      optimizer.apply_gradients(zip(grads, model.trainable_variables))\n",
        "      #print(model.trainable_variables)\n",
        "      #print(\"grads\")\n",
        "      #print(np.array(grads).shape)\n",
        "      #print(\"model.trainable_variables\")\n",
        "      #print(np.array(model.trainable_variables).shape)\n",
        "\n",
        "    # Run evaluation.\n",
        "    num_correct = 0\n",
        "    num_total = builder.info.splits['test'].num_examples\n",
        "\n",
        "    for images, labels in mnist_test:\n",
        "      # your code start from here for step 4\n",
        "      \n",
        "      label_together = np.array(compute_num_correct(model, images, labels))\n",
        "      label_real = label_together[2]\n",
        "      label_pred = label_together[1]\n",
        "      #print(\"label_predicted\")\n",
        "      #print(label_pred)\n",
        "      #print(\"label_real\")\n",
        "      #print(label_real)\n",
        "      sum_same = np.array((label_real == label_pred),int)\n",
        "      \n",
        "\n",
        "      num_correct += tf.reduce_sum(sum_same)\n",
        "    print(\"Class_accuracy: \" + '{:.2f}%'.format(\n",
        "        num_correct / num_total * 100))\n",
        "      \n"
      ]
    },
    {
      "cell_type": "markdown",
      "metadata": {
        "id": "NQL1lJdaRPT1"
      },
      "source": [
        "# Training models"
      ]
    },
    {
      "cell_type": "code",
      "execution_count": null,
      "metadata": {
        "colab": {
          "base_uri": "https://localhost:8080/"
        },
        "id": "-AGHbyABRPz3",
        "outputId": "3309391d-c604-421d-b1a4-69422ffd066b"
      },
      "outputs": [
        {
          "output_type": "stream",
          "name": "stdout",
          "text": [
            "Epoch 1: "
          ]
        },
        {
          "output_type": "stream",
          "name": "stderr",
          "text": [
            "/usr/local/lib/python3.7/dist-packages/ipykernel_launcher.py:55: VisibleDeprecationWarning: Creating an ndarray from ragged nested sequences (which is a list-or-tuple of lists-or-tuples-or ndarrays with different lengths or shapes) is deprecated. If you meant to do this, you must specify 'dtype=object' when creating the ndarray.\n"
          ]
        },
        {
          "output_type": "stream",
          "name": "stdout",
          "text": [
            "Class_accuracy: 98.11%\n",
            "Epoch 2: Class_accuracy: 98.57%\n",
            "Epoch 3: Class_accuracy: 98.94%\n",
            "Epoch 4: Class_accuracy: 99.09%\n",
            "Epoch 5: Class_accuracy: 99.22%\n",
            "Epoch 6: Class_accuracy: 99.03%\n",
            "Epoch 7: Class_accuracy: 99.07%\n",
            "Epoch 8: Class_accuracy: 99.28%\n",
            "Epoch 9: Class_accuracy: 99.16%\n",
            "Epoch 10: Class_accuracy: 99.12%\n",
            "Epoch 11: Class_accuracy: 99.24%\n",
            "Epoch 12: Class_accuracy: 99.16%\n",
            "WARNING:tensorflow:Compiled the loaded model, but the compiled metrics have yet to be built. `model.compile_metrics` will be empty until you train or evaluate the model.\n"
          ]
        },
        {
          "output_type": "stream",
          "name": "stderr",
          "text": [
            "WARNING:tensorflow:Compiled the loaded model, but the compiled metrics have yet to be built. `model.compile_metrics` will be empty until you train or evaluate the model.\n"
          ]
        },
        {
          "output_type": "stream",
          "name": "stdout",
          "text": [
            "INFO:tensorflow:Assets written to: teacher_model/assets\n"
          ]
        },
        {
          "output_type": "stream",
          "name": "stderr",
          "text": [
            "INFO:tensorflow:Assets written to: teacher_model/assets\n"
          ]
        }
      ],
      "source": [
        "# your code start from here for step 5 \n",
        "\n",
        "train_and_evaluate(cnn_model, compute_teacher_loss)\n",
        "cnn_model.save(\"teacher_model\")"
      ]
    },
    {
      "cell_type": "code",
      "execution_count": null,
      "metadata": {
        "colab": {
          "base_uri": "https://localhost:8080/"
        },
        "id": "L6RRIAK1WhHp",
        "outputId": "4d3e9cb6-f1a0-4917-ec89-66cf1a6482ee"
      },
      "outputs": [
        {
          "output_type": "stream",
          "name": "stdout",
          "text": [
            "WARNING:tensorflow:No training configuration found in save file, so the model was *not* compiled. Compile it manually.\n"
          ]
        },
        {
          "output_type": "stream",
          "name": "stderr",
          "text": [
            "WARNING:tensorflow:No training configuration found in save file, so the model was *not* compiled. Compile it manually.\n"
          ]
        }
      ],
      "source": [
        "cnn_model = keras.models.load_model(\"teacher_model\")"
      ]
    },
    {
      "cell_type": "code",
      "execution_count": null,
      "metadata": {
        "colab": {
          "base_uri": "https://localhost:8080/"
        },
        "id": "X0CDi2uWSiyA",
        "outputId": "8e1a2b03-143b-425e-f612-12b5f31f2879"
      },
      "outputs": [
        {
          "output_type": "stream",
          "name": "stdout",
          "text": [
            "Epoch 1: "
          ]
        },
        {
          "output_type": "stream",
          "name": "stderr",
          "text": [
            "/usr/local/lib/python3.7/dist-packages/ipykernel_launcher.py:55: VisibleDeprecationWarning: Creating an ndarray from ragged nested sequences (which is a list-or-tuple of lists-or-tuples-or ndarrays with different lengths or shapes) is deprecated. If you meant to do this, you must specify 'dtype=object' when creating the ndarray.\n"
          ]
        },
        {
          "output_type": "stream",
          "name": "stdout",
          "text": [
            "Class_accuracy: 96.85%\n",
            "Epoch 2: Class_accuracy: 97.84%\n",
            "Epoch 3: Class_accuracy: 98.38%\n",
            "Epoch 4: Class_accuracy: 98.38%\n",
            "Epoch 5: Class_accuracy: 98.49%\n",
            "Epoch 6: Class_accuracy: 98.63%\n",
            "Epoch 7: Class_accuracy: 98.59%\n",
            "Epoch 8: Class_accuracy: 98.76%\n",
            "Epoch 9: Class_accuracy: 98.72%\n",
            "Epoch 10: Class_accuracy: 98.73%\n",
            "Epoch 11: Class_accuracy: 98.71%\n",
            "Epoch 12: Class_accuracy: 98.77%\n",
            "WARNING:tensorflow:Compiled the loaded model, but the compiled metrics have yet to be built. `model.compile_metrics` will be empty until you train or evaluate the model.\n"
          ]
        },
        {
          "output_type": "stream",
          "name": "stderr",
          "text": [
            "WARNING:tensorflow:Compiled the loaded model, but the compiled metrics have yet to be built. `model.compile_metrics` will be empty until you train or evaluate the model.\n"
          ]
        },
        {
          "output_type": "stream",
          "name": "stdout",
          "text": [
            "INFO:tensorflow:Assets written to: student_model/assets\n"
          ]
        },
        {
          "output_type": "stream",
          "name": "stderr",
          "text": [
            "INFO:tensorflow:Assets written to: student_model/assets\n"
          ]
        }
      ],
      "source": [
        "train_and_evaluate(fc_model, compute_student_loss)\n",
        "fc_model.save(\"student_model\")\n",
        "#fc_model = keras.models.load_model(\"student_model\")"
      ]
    },
    {
      "cell_type": "markdown",
      "metadata": {
        "id": "sj1N38fnRTNB"
      },
      "source": [
        "# Test accuracy vs. tempreture curve"
      ]
    },
    {
      "cell_type": "code",
      "execution_count": null,
      "metadata": {
        "id": "gX4dbazrRWIz",
        "colab": {
          "base_uri": "https://localhost:8080/",
          "height": 1000
        },
        "outputId": "c8de7faa-6d61-4737-ca4d-b67a6af8ddf5"
      },
      "outputs": [
        {
          "output_type": "stream",
          "name": "stdout",
          "text": [
            "1\n",
            "Epoch 1: "
          ]
        },
        {
          "output_type": "stream",
          "name": "stderr",
          "text": [
            "/usr/local/lib/python3.7/dist-packages/ipykernel_launcher.py:55: VisibleDeprecationWarning: Creating an ndarray from ragged nested sequences (which is a list-or-tuple of lists-or-tuples-or ndarrays with different lengths or shapes) is deprecated. If you meant to do this, you must specify 'dtype=object' when creating the ndarray.\n"
          ]
        },
        {
          "output_type": "stream",
          "name": "stdout",
          "text": [
            "Class_accuracy: 97.01%\n",
            "Epoch 2: Class_accuracy: 97.83%\n",
            "Epoch 3: Class_accuracy: 97.78%\n",
            "Epoch 4: Class_accuracy: 97.96%\n",
            "Epoch 5: Class_accuracy: 98.27%\n",
            "Epoch 6: Class_accuracy: 98.23%\n",
            "Epoch 7: Class_accuracy: 98.44%\n",
            "Epoch 8: Class_accuracy: 97.97%\n",
            "Epoch 9: Class_accuracy: 98.18%\n",
            "Epoch 10: Class_accuracy: 98.55%\n",
            "Epoch 11: Class_accuracy: 98.35%\n",
            "Epoch 12: Class_accuracy: 98.56%\n"
          ]
        },
        {
          "output_type": "stream",
          "name": "stderr",
          "text": [
            "/usr/local/lib/python3.7/dist-packages/ipykernel_launcher.py:26: VisibleDeprecationWarning: Creating an ndarray from ragged nested sequences (which is a list-or-tuple of lists-or-tuples-or ndarrays with different lengths or shapes) is deprecated. If you meant to do this, you must specify 'dtype=object' when creating the ndarray.\n"
          ]
        },
        {
          "output_type": "stream",
          "name": "stdout",
          "text": [
            "2\n",
            "Epoch 1: Class_accuracy: 96.53%\n",
            "Epoch 2: Class_accuracy: 97.72%\n",
            "Epoch 3: Class_accuracy: 98.13%\n",
            "Epoch 4: Class_accuracy: 98.27%\n",
            "Epoch 5: Class_accuracy: 98.43%\n",
            "Epoch 6: Class_accuracy: 98.45%\n",
            "Epoch 7: Class_accuracy: 98.57%\n",
            "Epoch 8: Class_accuracy: 98.31%\n",
            "Epoch 9: Class_accuracy: 98.47%\n",
            "Epoch 10: Class_accuracy: 98.61%\n",
            "Epoch 11: Class_accuracy: 98.69%\n",
            "Epoch 12: Class_accuracy: 98.47%\n",
            "4\n",
            "Epoch 1: Class_accuracy: 96.78%\n",
            "Epoch 2: Class_accuracy: 97.97%\n",
            "Epoch 3: Class_accuracy: 98.30%\n",
            "Epoch 4: Class_accuracy: 98.51%\n",
            "Epoch 5: Class_accuracy: 98.53%\n",
            "Epoch 6: Class_accuracy: 98.67%\n",
            "Epoch 7: Class_accuracy: 98.84%\n",
            "Epoch 8: Class_accuracy: 98.68%\n",
            "Epoch 9: Class_accuracy: 98.78%\n",
            "Epoch 10: Class_accuracy: 98.69%\n",
            "Epoch 11: Class_accuracy: 98.78%\n",
            "Epoch 12: Class_accuracy: 98.81%\n",
            "16\n",
            "Epoch 1: Class_accuracy: 96.92%\n",
            "Epoch 2: Class_accuracy: 97.94%\n",
            "Epoch 3: Class_accuracy: 98.28%\n",
            "Epoch 4: Class_accuracy: 98.52%\n",
            "Epoch 5: Class_accuracy: 98.60%\n",
            "Epoch 6: Class_accuracy: 98.59%\n",
            "Epoch 7: Class_accuracy: 98.65%\n",
            "Epoch 8: Class_accuracy: 98.72%\n",
            "Epoch 9: Class_accuracy: 98.70%\n",
            "Epoch 10: Class_accuracy: 98.79%\n",
            "Epoch 11: Class_accuracy: 98.79%\n",
            "Epoch 12: Class_accuracy: 98.82%\n",
            "32\n",
            "Epoch 1: Class_accuracy: 96.95%\n",
            "Epoch 2: Class_accuracy: 97.95%\n",
            "Epoch 3: Class_accuracy: 98.32%\n",
            "Epoch 4: Class_accuracy: 98.39%\n",
            "Epoch 5: Class_accuracy: 98.54%\n",
            "Epoch 6: Class_accuracy: 98.69%\n",
            "Epoch 7: Class_accuracy: 98.66%\n",
            "Epoch 8: Class_accuracy: 98.65%\n",
            "Epoch 9: Class_accuracy: 98.71%\n",
            "Epoch 10: Class_accuracy: 98.80%\n",
            "Epoch 11: Class_accuracy: 98.73%\n",
            "Epoch 12: Class_accuracy: 98.76%\n",
            "64\n",
            "Epoch 1: Class_accuracy: 96.85%\n",
            "Epoch 2: Class_accuracy: 98.04%\n",
            "Epoch 3: Class_accuracy: 98.21%\n",
            "Epoch 4: Class_accuracy: 98.45%\n",
            "Epoch 5: Class_accuracy: 98.60%\n",
            "Epoch 6: Class_accuracy: 98.67%\n",
            "Epoch 7: Class_accuracy: 98.70%\n",
            "Epoch 8: Class_accuracy: 98.73%\n",
            "Epoch 9: Class_accuracy: 98.77%\n",
            "Epoch 10: Class_accuracy: 98.79%\n",
            "Epoch 11: Class_accuracy: 98.72%\n",
            "Epoch 12: Class_accuracy: 98.85%\n",
            "[<tf.Tensor: shape=(), dtype=float64, numpy=0.9856>, <tf.Tensor: shape=(), dtype=float64, numpy=0.9847>, <tf.Tensor: shape=(), dtype=float64, numpy=0.9881>, <tf.Tensor: shape=(), dtype=float64, numpy=0.9882>, <tf.Tensor: shape=(), dtype=float64, numpy=0.9876>, <tf.Tensor: shape=(), dtype=float64, numpy=0.9885>]\n"
          ]
        },
        {
          "output_type": "execute_result",
          "data": {
            "text/plain": [
              "[Text(0, 0, '0'),\n",
              " Text(0, 0, '1'),\n",
              " Text(0, 0, '2'),\n",
              " Text(0, 0, '4'),\n",
              " Text(0, 0, '16'),\n",
              " Text(0, 0, '32'),\n",
              " Text(0, 0, '64')]"
            ]
          },
          "metadata": {},
          "execution_count": 14
        },
        {
          "output_type": "display_data",
          "data": {
            "text/plain": [
              "<Figure size 432x288 with 1 Axes>"
            ],
            "image/png": "[encoded data removed]"
          },
          "metadata": {
            "needs_background": "light"
          }
        }
      ],
      "source": [
        "#cnn_model=tf.keras.models.load_model('teacher.h5')\n",
        "#fc_model=tf.keras.models.load_model('student.h5')\n",
        "# your code start from here for step 6\n",
        "accuracy = [0,0,0,0,0,0]\n",
        "temp = [1,2,4,16,32,64]\n",
        "k=0\n",
        "for i1 in temp:\n",
        "  print(i1)\n",
        "  DISTILLATION_TEMPERATURE = i1\n",
        "  \n",
        "  ## Build fully connected student.\n",
        "  fc_model = tf.keras.Sequential()\n",
        "  fc_model.add(layers.Flatten())\n",
        "  fc_model.add(layers.Dense(784,activation='relu'))\n",
        "  fc_model.add(layers.Dense(784,activation='relu'))\n",
        "  fc_model.add(layers.Dense(10))\n",
        "  fc_model.build((256, 28, 28, 1))\n",
        "  train_and_evaluate(fc_model, compute_student_loss)\n",
        "\n",
        "  # Run evaluation.\n",
        "  num_correct = 0\n",
        "  num_total = builder.info.splits['test'].num_examples\n",
        "\n",
        "  for images, labels in mnist_test:\n",
        "    \n",
        "    label_together = np.array(compute_num_correct(fc_model, images, labels))\n",
        "    label_real = label_together[2]\n",
        "    label_pred = label_together[1]\n",
        "    sum_same = np.array((label_real == label_pred),int)\n",
        "    \n",
        "\n",
        "    num_correct += tf.reduce_sum(sum_same)\n",
        "  accuracy[k] = num_correct / num_total\n",
        "  k = k+1\n",
        "\n",
        "x1=range(6)\n",
        "fig, ax = plt.subplots()\n",
        "print(accuracy)\n",
        "ax.plot(x1,accuracy)\n",
        "plt.title('accuracy with different temperature')\n",
        "plt.xlabel('temperature')\n",
        "plt.ylabel('accuracy')\n",
        "ax.set_xticklabels(['0','1','2','4','16','32','64'])\n",
        "\n"
      ]
    },
    {
      "cell_type": "markdown",
      "metadata": {
        "id": "WNrH_1emRbGA"
      },
      "source": [
        "# Train student from scratch"
      ]
    },
    {
      "cell_type": "code",
      "execution_count": null,
      "metadata": {
        "colab": {
          "base_uri": "https://localhost:8080/"
        },
        "id": "HjospsxIRbQ6",
        "outputId": "8e08b81d-8a3b-4b77-a950-c0d59af26b7b"
      },
      "outputs": [
        {
          "output_type": "stream",
          "name": "stdout",
          "text": [
            "Epoch 1: "
          ]
        },
        {
          "output_type": "stream",
          "name": "stderr",
          "text": [
            "/usr/local/lib/python3.7/dist-packages/ipykernel_launcher.py:55: VisibleDeprecationWarning: Creating an ndarray from ragged nested sequences (which is a list-or-tuple of lists-or-tuples-or ndarrays with different lengths or shapes) is deprecated. If you meant to do this, you must specify 'dtype=object' when creating the ndarray.\n"
          ]
        },
        {
          "output_type": "stream",
          "name": "stdout",
          "text": [
            "Class_accuracy: 96.53%\n",
            "Epoch 2: Class_accuracy: 97.64%\n",
            "Epoch 3: Class_accuracy: 97.67%\n",
            "Epoch 4: Class_accuracy: 97.98%\n",
            "Epoch 5: Class_accuracy: 97.99%\n",
            "Epoch 6: Class_accuracy: 98.01%\n",
            "Epoch 7: Class_accuracy: 98.16%\n",
            "Epoch 8: Class_accuracy: 98.08%\n",
            "Epoch 9: Class_accuracy: 98.13%\n",
            "Epoch 10: Class_accuracy: 97.94%\n",
            "Epoch 11: Class_accuracy: 98.12%\n",
            "Epoch 12: Class_accuracy: 97.87%\n"
          ]
        }
      ],
      "source": [
        "DISTILLATION_TEMPERATURE = 1. #temperature hyperparameter\n",
        "\n",
        "# Build fully connected student.\n",
        "fc_model_no_distillation = tf.keras.Sequential()\n",
        "fc_model_no_distillation.add(layers.Flatten())\n",
        "fc_model_no_distillation.add(layers.Dense(784,activation='relu'))\n",
        "fc_model_no_distillation.add(layers.Dense(784,activation='relu'))\n",
        "fc_model_no_distillation.add(layers.Dense(10))\n",
        "\n",
        "\n",
        "# your code start from here for step 7\n",
        "\n",
        "#@test {\"output\": \"ignore\"}\n",
        "\n",
        "def compute_plain_cross_entropy_loss(images, labels):\n",
        "  \"\"\"Compute plain loss for given images and labels.\n",
        "\n",
        "  For fair comparison and convenience, this function also performs a\n",
        "  LogSumExp over subclasses, but does not perform subclass distillation.\n",
        "\n",
        "  Args:\n",
        "    images: Tensor representing a batch of images.\n",
        "    labels: Tensor representing a batch of labels.\n",
        "\n",
        "  Returns:\n",
        "    Scalar loss Tensor.\n",
        "  \"\"\"\n",
        "  # your code start from here for step 7\n",
        "\n",
        "  student_subclass_logits = fc_model_no_distillation(images, training=True)\n",
        "  student_subclass_logits = keras.backend.softmax(student_subclass_logits/DISTILLATION_TEMPERATURE)\n",
        "  cce = tf.keras.losses.CategoricalCrossentropy(from_logits=False)\n",
        "  cross_entropy_loss = cce(labels, student_subclass_logits)\n",
        "  \n",
        "  return cross_entropy_loss\n",
        "\n",
        "\n",
        "train_and_evaluate(fc_model_no_distillation, compute_plain_cross_entropy_loss)"
      ]
    },
    {
      "cell_type": "markdown",
      "metadata": {
        "id": "yq3JTpQ4RuhR"
      },
      "source": [
        "# Comparing the teacher and student model (number of of parameters and FLOPs) "
      ]
    },
    {
      "cell_type": "code",
      "execution_count": null,
      "metadata": {
        "colab": {
          "base_uri": "https://localhost:8080/"
        },
        "id": "1QGKJrIoF1Hm",
        "outputId": "56708c95-737c-44c8-993c-df464411948e"
      },
      "outputs": [
        {
          "output_type": "stream",
          "name": "stdout",
          "text": [
            "Collecting keras_flops\n",
            "  Downloading keras_flops-0.1.2-py3-none-any.whl (5.3 kB)\n",
            "Requirement already satisfied: tensorflow<3.0,>=2.2 in /usr/local/lib/python3.7/dist-packages (from keras_flops) (2.8.0)\n",
            "Requirement already satisfied: termcolor>=1.1.0 in /usr/local/lib/python3.7/dist-packages (from tensorflow<3.0,>=2.2->keras_flops) (1.1.0)\n",
            "Requirement already satisfied: flatbuffers>=1.12 in /usr/local/lib/python3.7/dist-packages (from tensorflow<3.0,>=2.2->keras_flops) (2.0)\n",
            "Requirement already satisfied: astunparse>=1.6.0 in /usr/local/lib/python3.7/dist-packages (from tensorflow<3.0,>=2.2->keras_flops) (1.6.3)\n",
            "Requirement already satisfied: opt-einsum>=2.3.2 in /usr/local/lib/python3.7/dist-packages (from tensorflow<3.0,>=2.2->keras_flops) (3.3.0)\n",
            "Requirement already satisfied: numpy>=1.20 in /usr/local/lib/python3.7/dist-packages (from tensorflow<3.0,>=2.2->keras_flops) (1.21.5)\n",
            "Collecting tf-estimator-nightly==2.8.0.dev2021122109\n",
            "  Downloading tf_estimator_nightly-2.8.0.dev2021122109-py2.py3-none-any.whl (462 kB)\n",
            "\u001b[K     |████████████████████████████████| 462 kB 36.8 MB/s \n",
            "\u001b[?25hRequirement already satisfied: setuptools in /usr/local/lib/python3.7/dist-packages (from tensorflow<3.0,>=2.2->keras_flops) (57.4.0)\n",
            "Requirement already satisfied: keras-preprocessing>=1.1.1 in /usr/local/lib/python3.7/dist-packages (from tensorflow<3.0,>=2.2->keras_flops) (1.1.2)\n",
            "Requirement already satisfied: keras<2.9,>=2.8.0rc0 in /usr/local/lib/python3.7/dist-packages (from tensorflow<3.0,>=2.2->keras_flops) (2.8.0)\n",
            "Requirement already satisfied: libclang>=9.0.1 in /usr/local/lib/python3.7/dist-packages (from tensorflow<3.0,>=2.2->keras_flops) (13.0.0)\n",
            "Requirement already satisfied: google-pasta>=0.1.1 in /usr/local/lib/python3.7/dist-packages (from tensorflow<3.0,>=2.2->keras_flops) (0.2.0)\n",
            "Requirement already satisfied: grpcio<2.0,>=1.24.3 in /usr/local/lib/python3.7/dist-packages (from tensorflow<3.0,>=2.2->keras_flops) (1.44.0)\n",
            "Requirement already satisfied: typing-extensions>=3.6.6 in /usr/local/lib/python3.7/dist-packages (from tensorflow<3.0,>=2.2->keras_flops) (3.10.0.2)\n",
            "Requirement already satisfied: six>=1.12.0 in /usr/local/lib/python3.7/dist-packages (from tensorflow<3.0,>=2.2->keras_flops) (1.15.0)\n",
            "Requirement already satisfied: absl-py>=0.4.0 in /usr/local/lib/python3.7/dist-packages (from tensorflow<3.0,>=2.2->keras_flops) (1.0.0)\n",
            "Requirement already satisfied: gast>=0.2.1 in /usr/local/lib/python3.7/dist-packages (from tensorflow<3.0,>=2.2->keras_flops) (0.5.3)\n",
            "Requirement already satisfied: tensorboard<2.9,>=2.8 in /usr/local/lib/python3.7/dist-packages (from tensorflow<3.0,>=2.2->keras_flops) (2.8.0)\n",
            "Requirement already satisfied: tensorflow-io-gcs-filesystem>=0.23.1 in /usr/local/lib/python3.7/dist-packages (from tensorflow<3.0,>=2.2->keras_flops) (0.24.0)\n",
            "Requirement already satisfied: h5py>=2.9.0 in /usr/local/lib/python3.7/dist-packages (from tensorflow<3.0,>=2.2->keras_flops) (3.1.0)\n",
            "Requirement already satisfied: protobuf>=3.9.2 in /usr/local/lib/python3.7/dist-packages (from tensorflow<3.0,>=2.2->keras_flops) (3.17.3)\n",
            "Requirement already satisfied: wrapt>=1.11.0 in /usr/local/lib/python3.7/dist-packages (from tensorflow<3.0,>=2.2->keras_flops) (1.14.0)\n",
            "Requirement already satisfied: wheel<1.0,>=0.23.0 in /usr/local/lib/python3.7/dist-packages (from astunparse>=1.6.0->tensorflow<3.0,>=2.2->keras_flops) (0.37.1)\n",
            "Requirement already satisfied: cached-property in /usr/local/lib/python3.7/dist-packages (from h5py>=2.9.0->tensorflow<3.0,>=2.2->keras_flops) (1.5.2)\n",
            "Requirement already satisfied: google-auth-oauthlib<0.5,>=0.4.1 in /usr/local/lib/python3.7/dist-packages (from tensorboard<2.9,>=2.8->tensorflow<3.0,>=2.2->keras_flops) (0.4.6)\n",
            "Requirement already satisfied: requests<3,>=2.21.0 in /usr/local/lib/python3.7/dist-packages (from tensorboard<2.9,>=2.8->tensorflow<3.0,>=2.2->keras_flops) (2.23.0)\n",
            "Requirement already satisfied: werkzeug>=0.11.15 in /usr/local/lib/python3.7/dist-packages (from tensorboard<2.9,>=2.8->tensorflow<3.0,>=2.2->keras_flops) (1.0.1)\n",
            "Requirement already satisfied: markdown>=2.6.8 in /usr/local/lib/python3.7/dist-packages (from tensorboard<2.9,>=2.8->tensorflow<3.0,>=2.2->keras_flops) (3.3.6)\n",
            "Requirement already satisfied: tensorboard-data-server<0.7.0,>=0.6.0 in /usr/local/lib/python3.7/dist-packages (from tensorboard<2.9,>=2.8->tensorflow<3.0,>=2.2->keras_flops) (0.6.1)\n",
            "Requirement already satisfied: tensorboard-plugin-wit>=1.6.0 in /usr/local/lib/python3.7/dist-packages (from tensorboard<2.9,>=2.8->tensorflow<3.0,>=2.2->keras_flops) (1.8.1)\n",
            "Requirement already satisfied: google-auth<3,>=1.6.3 in /usr/local/lib/python3.7/dist-packages (from tensorboard<2.9,>=2.8->tensorflow<3.0,>=2.2->keras_flops) (1.35.0)\n",
            "Requirement already satisfied: rsa<5,>=3.1.4 in /usr/local/lib/python3.7/dist-packages (from google-auth<3,>=1.6.3->tensorboard<2.9,>=2.8->tensorflow<3.0,>=2.2->keras_flops) (4.8)\n",
            "Requirement already satisfied: pyasn1-modules>=0.2.1 in /usr/local/lib/python3.7/dist-packages (from google-auth<3,>=1.6.3->tensorboard<2.9,>=2.8->tensorflow<3.0,>=2.2->keras_flops) (0.2.8)\n",
            "Requirement already satisfied: cachetools<5.0,>=2.0.0 in /usr/local/lib/python3.7/dist-packages (from google-auth<3,>=1.6.3->tensorboard<2.9,>=2.8->tensorflow<3.0,>=2.2->keras_flops) (4.2.4)\n",
            "Requirement already satisfied: requests-oauthlib>=0.7.0 in /usr/local/lib/python3.7/dist-packages (from google-auth-oauthlib<0.5,>=0.4.1->tensorboard<2.9,>=2.8->tensorflow<3.0,>=2.2->keras_flops) (1.3.1)\n",
            "Requirement already satisfied: importlib-metadata>=4.4 in /usr/local/lib/python3.7/dist-packages (from markdown>=2.6.8->tensorboard<2.9,>=2.8->tensorflow<3.0,>=2.2->keras_flops) (4.11.3)\n",
            "Requirement already satisfied: zipp>=0.5 in /usr/local/lib/python3.7/dist-packages (from importlib-metadata>=4.4->markdown>=2.6.8->tensorboard<2.9,>=2.8->tensorflow<3.0,>=2.2->keras_flops) (3.7.0)\n",
            "Requirement already satisfied: pyasn1<0.5.0,>=0.4.6 in /usr/local/lib/python3.7/dist-packages (from pyasn1-modules>=0.2.1->google-auth<3,>=1.6.3->tensorboard<2.9,>=2.8->tensorflow<3.0,>=2.2->keras_flops) (0.4.8)\n",
            "Requirement already satisfied: idna<3,>=2.5 in /usr/local/lib/python3.7/dist-packages (from requests<3,>=2.21.0->tensorboard<2.9,>=2.8->tensorflow<3.0,>=2.2->keras_flops) (2.10)\n",
            "Requirement already satisfied: certifi>=2017.4.17 in /usr/local/lib/python3.7/dist-packages (from requests<3,>=2.21.0->tensorboard<2.9,>=2.8->tensorflow<3.0,>=2.2->keras_flops) (2021.10.8)\n",
            "Requirement already satisfied: urllib3!=1.25.0,!=1.25.1,<1.26,>=1.21.1 in /usr/local/lib/python3.7/dist-packages (from requests<3,>=2.21.0->tensorboard<2.9,>=2.8->tensorflow<3.0,>=2.2->keras_flops) (1.24.3)\n",
            "Requirement already satisfied: chardet<4,>=3.0.2 in /usr/local/lib/python3.7/dist-packages (from requests<3,>=2.21.0->tensorboard<2.9,>=2.8->tensorflow<3.0,>=2.2->keras_flops) (3.0.4)\n",
            "Requirement already satisfied: oauthlib>=3.0.0 in /usr/local/lib/python3.7/dist-packages (from requests-oauthlib>=0.7.0->google-auth-oauthlib<0.5,>=0.4.1->tensorboard<2.9,>=2.8->tensorflow<3.0,>=2.2->keras_flops) (3.2.0)\n",
            "Installing collected packages: tf-estimator-nightly, keras-flops\n",
            "Successfully installed keras-flops-0.1.2 tf-estimator-nightly-2.8.0.dev2021122109\n",
            "WARNING:tensorflow:From /usr/local/lib/python3.7/dist-packages/tensorflow/python/ops/nn_ops.py:5214: tensor_shape_from_node_def_name (from tensorflow.python.framework.graph_util_impl) is deprecated and will be removed in a future version.\n",
            "Instructions for updating:\n",
            "Use `tf.compat.v1.graph_util.tensor_shape_from_node_def_name`\n"
          ]
        },
        {
          "output_type": "stream",
          "name": "stderr",
          "text": [
            "WARNING:tensorflow:From /usr/local/lib/python3.7/dist-packages/tensorflow/python/ops/nn_ops.py:5214: tensor_shape_from_node_def_name (from tensorflow.python.framework.graph_util_impl) is deprecated and will be removed in a future version.\n",
            "Instructions for updating:\n",
            "Use `tf.compat.v1.graph_util.tensor_shape_from_node_def_name`\n"
          ]
        },
        {
          "output_type": "stream",
          "name": "stdout",
          "text": [
            "teacher model\n",
            "7758170624\n",
            "WARNING:tensorflow:Layers in a Sequential model should only have a single input tensor. Received: inputs=[<tf.Tensor 'args_0:0' shape=(256, 28, 28, 1) dtype=float32>]. Consider rewriting this model with the Functional API.\n"
          ]
        },
        {
          "output_type": "stream",
          "name": "stderr",
          "text": [
            "WARNING:tensorflow:Layers in a Sequential model should only have a single input tensor. Received: inputs=[<tf.Tensor 'args_0:0' shape=(256, 28, 28, 1) dtype=float32>]. Consider rewriting this model with the Functional API.\n"
          ]
        },
        {
          "output_type": "stream",
          "name": "stdout",
          "text": [
            "student model\n",
            "633825792\n"
          ]
        }
      ],
      "source": [
        "# your code start from here for step 8\n",
        "!pip install keras_flops\n",
        "from keras_flops import get_flops\n",
        "flops = get_flops(cnn_model, batch_size=256)\n",
        "print('teacher model')\n",
        "print(flops)\n",
        "flops = get_flops(fc_model, batch_size=256)\n",
        "print('student model')\n",
        "print(flops)"
      ]
    },
    {
      "cell_type": "markdown",
      "metadata": {
        "id": "8b5yNhJfRu-7"
      },
      "source": [
        "# XAI method to explain models"
      ]
    },
    {
      "cell_type": "markdown",
      "metadata": {
        "id": "7mum_IL1IBdU"
      },
      "source": [
        "XAI Library from Task 1"
      ]
    },
    {
      "cell_type": "code",
      "execution_count": null,
      "metadata": {
        "id": "UNt3Pr5FOkaa"
      },
      "outputs": [],
      "source": [
        "import cv2\n",
        "from time import time\n",
        "import os\n",
        "import numpy as np\n",
        "import json\n",
        "\n",
        "import tensorflow as tf\n",
        "from tensorflow import keras\n",
        "from scipy.ndimage.interpolation import zoom\n",
        "from tensorflow.keras.preprocessing.image import load_img, img_to_array\n",
        "import tensorflow.keras.backend as K\n",
        "from PIL import Image, ImageDraw\n",
        "\n",
        "import matplotlib.pyplot as plt\n",
        "#############################\n",
        "\n",
        "def layer_finder(k_model, model_arch, pool_input=True):\n",
        "\n",
        "  '''\n",
        "  Returns a list of all of the last layers in each block of the model.\n",
        "\n",
        "    Parameters:\n",
        "      k_model (Keras model): Either a VGG or ResNet\n",
        "      model_arch (str): Either \"VGG\" or \"ResNet\"\n",
        "\n",
        "    Returns:\n",
        "      last_layers (list): A list of all of the last layers in each block of the\n",
        "      model.\n",
        "  '''\n",
        "  \n",
        "  if type(model_arch) != str:\n",
        "    raise TypeError(\"Input argument \\\"model_arch\\\" must be a string that is\\\n",
        "                      either \\\"VGG\\\" or \\\"ResNet\\\".\")\n",
        "\n",
        "  last_layers = []\n",
        "  pool_flag=False\n",
        "  block_end_detected=False\n",
        "  first_layer=True\n",
        "  j=0\n",
        "\n",
        "  if model_arch == \"VGG\":\n",
        " \n",
        "    for layer in k_model.layers:\n",
        "      if type(layer) == tf.keras.layers.MaxPool2D:\n",
        "        last_layers.append(layer.name)\n",
        "\n",
        "  elif model_arch == \"ResNet\":\n",
        "\n",
        "\n",
        "    for i in range(len(k_model.layers)):\n",
        "      if i<j: continue\n",
        "      #print(k_model.layers[i])\n",
        "      if len(k_model.layers[i+1].output.get_shape()) < 4:\n",
        "        # only save a layer if the block before the end was a convolutional block\n",
        "            last_layers.append(k_model.layers[i].name)\n",
        "            break\n",
        "      \n",
        "      if k_model.layers[i+1].output.get_shape()[2]<k_model.layers[i].output.get_shape()[2]-4:\n",
        "          if pool_input==True:\n",
        "              if type(k_model.layers[i]) == tf.keras.layers.InputLayer: continue\n",
        "              if 'ZeroPadding2D' in str(type(k_model.layers[i])):\n",
        "                  if type(k_model.layers[i-1]) == tf.keras.layers.InputLayer: continue\n",
        "                  last_layers.append(k_model.layers[i-1].name)\n",
        "              else:\n",
        "                  last_layers.append(k_model.layers[i].name)\n",
        "          else:\n",
        "              if first_layer:\n",
        "                  j=i+1\n",
        "                  pool_flag=True\n",
        "                  while(pool_flag):\n",
        "                      j += 1\n",
        "                      #print(str(type(k_model.layers[j])))\n",
        "                      if  'Conv2D' in str(type(k_model.layers[j])):\n",
        "                          #print('Here')\n",
        "                          last_layers.append(k_model.layers[j-1].name)\n",
        "                          first_layer=False\n",
        "                          pool_flag=False\n",
        "              else:\n",
        "                  j=i\n",
        "                  pool_flag=True\n",
        "                  while(pool_flag):\n",
        "                      j += 1\n",
        "                      #print(str(type(k_model.layers[j])))\n",
        "                      if 'merge.Add' in str(type(k_model.layers[j])):\n",
        "                          block_end_detected=True\n",
        "                          #print(j)\n",
        "                      elif block_end_detected==True and 'Conv2D' in str(type(k_model.layers[j])):\n",
        "                          #print('Here')\n",
        "                          last_layers.append(k_model.layers[j-1].name)\n",
        "                          block_end_detected=False\n",
        "                          pool_flag=False\n",
        "  else:\n",
        "    \n",
        "    print(\"Input argument \\\"model_arch\\\" must be either \\\"VGG\\\" or \\\"ResNet\\\".\")\n",
        "\n",
        "  return [[lay] for lay in last_layers]\n",
        "  \n",
        "def create_random_mask(h=7, w=7, H=224, W=224, p_1=0.5, resample=Image.BILINEAR):\n",
        "    '''\n",
        "    Generates one random mask utilized in RISE\n",
        "    inputs:\n",
        "        h, w: initial size of binary mask\n",
        "        H, W: final size of the upsampled mask\n",
        "        p_1: probability of actiating pixels in the down-sampled masks.\n",
        "        interp: upsampling technique.\n",
        "    returns:\n",
        "        mask: a smooth mask with the values in range [0,1] with size of HxW.\n",
        "    '''\n",
        "    assert H>h, 'Masks should be resized to higher dimensions.'\n",
        "    assert W>w, 'Masks should be resized to higher dimensions.'\n",
        "    # create random binary hxw mask\n",
        "    mask=np.random.choice([0, 1], size=(h, w), p=[1-p_1, p_1])\n",
        "\n",
        "    # upsample mask to (h+H,w+W)\n",
        "    mask = Image.fromarray(mask*255.)\n",
        "    mask = mask.resize((H + h, W + w), resample=resample)\n",
        "    mask = np.array(mask)\n",
        "\n",
        "    # randomly crop mask to HxW\n",
        "    w_crop = np.random.randint(0,w+1)\n",
        "    h_crop = np.random.randint(0,h+1)\n",
        "    mask = mask[h_crop:H + h_crop, w_crop:W + w_crop]\n",
        "\n",
        "    # normalize between 0 and 1\n",
        "    mask /= np.max(mask)\n",
        "\n",
        "    return mask\n",
        "\n",
        "def create_attribution_masks(img, model, layers, class_index, max_mask_num, interp='bilinear'):\n",
        "    '''\n",
        "    Derives feature maps from one, or a couple of layers, and post-processes them\n",
        "    to convert them to attribution masks.\n",
        "\n",
        "    inputs:\n",
        "        img: a 4-D tensor image.\n",
        "        model: the classification model\n",
        "        layers: list of layers to be visualized either individually or mutually.\n",
        "        class_index: the output class according to whom the layer(s) are visualized.\n",
        "        max_mask_num: the threshold \"normalized gradient\" value for sampling attribution masks (\\mu in our paper)\n",
        "        interp: upsampling technique.\n",
        "        For now, 'bilinear' and 'nearest' are supported.\n",
        "    returns:\n",
        "        masks: a set of attribution masks normalized between 0 and 1.\n",
        "    '''\n",
        "    assert interp in ['bilinear', 'nearest'], 'Selected upsampling type undefined or unsupported.'\n",
        "    # Forward pass to get attribution masks.\n",
        "    conv_outputs=[]\n",
        "    for layer in model.layers:\n",
        "        if np.isin(layer.name,layers):\n",
        "            conv_outputs.append(layer.output)\n",
        "    conv_outputs.append(model.output)\n",
        "    feedforward1=keras.models.Model([model.input], [conv_outputs])\n",
        "    with tf.GradientTape() as tape:\n",
        "        ff_results=feedforward1([img])[0]\n",
        "        all_fmap_masks, predictions = ff_results[:-1], ff_results[-1]\n",
        "        loss = predictions[:, class_index]\n",
        "    grads = tape.gradient(loss, all_fmap_masks)\n",
        "    ###\n",
        "    \n",
        "    # upsample and normalize masks.\n",
        "    num_masks=0\n",
        "    masks=[]\n",
        "    for i in range(len(layers)):\n",
        "        tmp_mask = all_fmap_masks[i][0].numpy()\n",
        "        if len(img.shape)==3:\n",
        "            axis=0\n",
        "            size=img.shape[1:]\n",
        "            tmp_mask = np.expand_dims(tmp_mask, axis=1)\n",
        "        elif len(img.shape)==4:\n",
        "            axis=(0,1)\n",
        "            size=img.shape[1:-1]\n",
        "        significance = np.mean(grads[i][0], axis=axis)\n",
        "        #idxs = np.argpartition(significance, -1*max_mask_num)[-1*max_mask_num:]\n",
        "        idxs = np.where(significance>max_mask_num*np.max(significance))[0]\n",
        "        if interp == 'bilinear':\n",
        "            fmap = tf.image.resize(tmp_mask[...,idxs], size, method='bilinear').numpy()\n",
        "        elif interp == 'nearest':\n",
        "            fmap = tf.image.resize(tmp_mask[...,idxs], size, method='nearest').numpy()\n",
        "        else: raise ValueError('You have selected an unsupported interpolation type.')\n",
        "        \n",
        "        num_masks+=fmap.shape[2]\n",
        "        fmap -= np.min(fmap, axis=(0,1))\n",
        "        fmap /= (np.max(fmap, axis=(0,1))+10e-7)\n",
        "        masks.append(fmap) \n",
        "    return masks\n",
        "\n",
        "def visualize_layers(img, model, class_index, masks, H=224, W=224, C=3, batch_size = 128):\n",
        "    '''\n",
        "    Combines attribution masks using the RISE-based framework mentioned in\n",
        "    SISE white paper.\n",
        "    inputs:\n",
        "        img: a 3-D tensor image.\n",
        "        model: the classification model\n",
        "        class_index: the output class according to whom the layer(s) are visualized.\n",
        "        masks: a set of attribution masks normalized between 0 and 1.\n",
        "    returns:\n",
        "        sum_masks: visualization map of the selected layer(s).\n",
        "    This function follows 'create_attribution_masks()'.\n",
        "    '''\n",
        "    # creates perturbed images to probe model.\n",
        "    img = img if len(img.shape)==3 else np.expand_dims(img, axis=1)\n",
        "    X = np.einsum('hwc,hwn->nhwc', img, masks)\n",
        "    # second forward pass to valuate attribution maps\n",
        "    preds_masked = np.empty([0])\n",
        "    if masks.shape[2] <= batch_size :\n",
        "      preds_masked=np.append(preds_masked, model(X, training=False)[:,class_index],axis=0)\n",
        "    else :\n",
        "      for i in range (0, masks.shape[2]-batch_size, batch_size) :\n",
        "        preds_masked=np.append(preds_masked, model(X[i:i+batch_size], training=False)[:,class_index],axis=0)\n",
        "      preds_masked=np.append(preds_masked, model(X[i+batch_size:], training=False)[:,class_index],axis=0)\n",
        "    \n",
        "    # Linear combination of attribution masks.\n",
        "    masks /= (masks.sum(axis=(0,1))+10e-7)\n",
        "    sum_mask = np.einsum('hwn,n->hw', masks, preds_masked)\n",
        "\n",
        "    sum_mask -= np.min(sum_mask)\n",
        "    sum_mask /= np.max(sum_mask)\n",
        "    return sum_mask\n",
        "    \n",
        "def otsu(I, nbins=256, tau=1.5):\n",
        "    '''\n",
        "    Finds the optimum adaptive threshold value for a 2-D image.\n",
        "    inputs:\n",
        "        I: a 2-D image (visualization map/ heat-map/ etc.)\n",
        "        nbins: resolution of histogram. Increasing this parameter yields to more\n",
        "        precise threshold value, achieved in longer time.\n",
        "        tau: bottleneck amplititude\n",
        "        returns: Otsu adaptive threshold value\n",
        "    '''\n",
        "    I = np.round(I*nbins)\n",
        "    #histogram of the image\n",
        "    hist, bins = np.histogram(I.ravel(),nbins,[0,nbins])\n",
        "    #CDF/ mean/ variance terms for multiple values\n",
        "    i = np.arange(nbins)\n",
        "    varsb = np.zeros(nbins)\n",
        "    for j in range(1, nbins):\n",
        "        w0 = np.sum(hist[0:j])\n",
        "        w1 = np.sum(hist[j:nbins])\n",
        "        u0 = np.sum(np.multiply(hist[0:j], i[0:j])) / w0\n",
        "        u1 = np.sum(np.multiply(hist[j:nbins], i[j:nbins])) / w1\n",
        "        varsb[j] = w0 * w1 * (u0-u1) * (u0-u1)\n",
        "    # the threshold value is the one maximizing the variance term.\n",
        "    t = np.argmax(varsb)\n",
        "    #print(t)\n",
        "    k = round(t*tau)\n",
        "    if np.sum(hist[int(k):256]) < .1 * np.sum(hist):\n",
        "        #print('happened')\n",
        "        return t*tau/nbins\n",
        "    else:\n",
        "        return t/nbins\n",
        "\n",
        "def otsu_sigmoid(I, nbins=256, T=100., tau=1.5):\n",
        "    '''\n",
        "        Thresholds the 2-D visualization map softly, combining Otsu's method and\n",
        "        sigmoid function.\n",
        "        inputs:\n",
        "            I: a 2-D image (visualization map/ heat-map/ etc.)\n",
        "            nbins: resolution of histogram. Increasing this parameter yields to more\n",
        "            precise threshold value, achieved in longer time.\n",
        "            T: sigmoid temparature (preferred to be set to high values.)     \n",
        "        returns:\n",
        "            the soft-thresholded heat-map according to the input.\n",
        "    '''\n",
        "    thr=otsu(I, nbins=256, tau=1.5)\n",
        "    return 1/(1 + np.exp(-(I-thr)*T)) \n",
        "\n",
        "def fuse_visualization_maps(exmaps, fusion_type='otsu', T=100.):\n",
        "    '''\n",
        "    Fuses visualization maps to a unique explanation map. Visualization maps should\n",
        "    be given with the correct order (low-level layer to high-level layer)\n",
        "\n",
        "    '''\n",
        "    assert fusion_type in ['simple', 'otsu']\n",
        "    ex=exmaps[0]\n",
        "    if fusion_type=='simple':\n",
        "        for i in range(1, len(exmaps)):\n",
        "            ex += exmaps[i]\n",
        "            ex *= exmaps[i]\n",
        "    elif fusion_type=='otsu':\n",
        "        for i in range(1, len(exmaps)):\n",
        "            ex += exmaps[i]\n",
        "            ex *= otsu_sigmoid(exmaps[i], T=T)\n",
        "    return ex\n",
        "    \n",
        "def SISE(img, model, class_index, layers, grad_thr, interp='bilinear', \n",
        "         fusion_type='otsu', T=100.):\n",
        "\n",
        "    '''\n",
        "    For now, this function supports VGG16, ResNet50, and ResNet101.\n",
        "    img: a 4-D image, or a 3-D array.\n",
        "    model: the classification model\n",
        "    layers: list of layers to be visualized either individually or mutually.\n",
        "    interp: upsampling technique.\n",
        "    Check the supproted upsampling types in function 'create_attribution_masks'.\n",
        "\tgrad_thr: Threshold on the average gradient values to select the most appropriate feature maps.\n",
        "    fusion_type: the fusion technipue for visualization maps:\n",
        "        simple: Using only addition and multiplication blocks.\n",
        "        otsu: Using addition, soft otsu threshold, and multiplication blocks.\n",
        "    auto_layer_finder: if 'True', the layers are automatically selected. Otherwise,\n",
        "        pre-defined layers for the models experimented are used.\n",
        "    pool_input_select: If True, the inputs of pooling layers are detected automatically.\n",
        "        Otherwise,  the outputs of pooling layers are detected automatically.\n",
        "        If 'auto_layer_finder=False', this parameter is ineffective.\n",
        "    '''\n",
        "    masks = create_attribution_masks(img, model, layers, class_index=class_index, max_mask_num = grad_thr, interp=interp)\n",
        "    exmaps=[]\n",
        "    for mask_set in masks:\n",
        "        exmaps.append(visualize_layers(img[0], model, class_index, mask_set))\n",
        "    return fuse_visualization_maps(exmaps, fusion_type=fusion_type, T=T)\n",
        "    \n",
        "    \n",
        "def weighted_fusion(w,exmaps, T=100.):\n",
        "    '''\n",
        "    Objective: weighted fusion using weighted addition, unweighted multiplication, and otsu threshold blocks.\n",
        "    inputs:\n",
        "        w: an array of weight factors of length N-1.\n",
        "        exmaps: a 3-D array of explanation maps of length H x W x N.\n",
        "    parameters:\n",
        "        N: number of visualiation maps received\n",
        "        H x W: size of visualization maps.\n",
        "    outputs:\n",
        "        e_out: fused explanation map.\n",
        "    '''\n",
        "    #w_post=np.maximum(w,0)\n",
        "    w_post=np.clip(a=w, a_min=0, a_max=2)\n",
        "    e23=np.multiply((exmaps[:,:,0]*w_post[0]+exmaps[:,:,1]*(2-w_post[0])),\n",
        "                    otsu_sigmoid(exmaps[:,:,1], T=T))\n",
        "    e234=np.multiply((e23*w_post[1]+exmaps[:,:,2]*(2-w_post[1])),\n",
        "                    otsu_sigmoid(exmaps[:,:,2], T=T))\n",
        "    e2345=np.multiply((e234*w_post[2]+exmaps[:,:,3]*(2-w_post[2])),\n",
        "                    otsu_sigmoid(exmaps[:,:,3], T=T))\n",
        "    e23456=np.multiply((e2345*w_post[3]+exmaps[:,:,4]*(2-w_post[3])),\n",
        "                    otsu_sigmoid(exmaps[:,:,4], T=T))\n",
        "    e_out = e23456\n",
        "    return e_out\n",
        "\n",
        "def grad_cam(input_model, image, layer_name):\n",
        "    cls = np.argmax(input_model.predict(image))\n",
        "    def normalize(x):\n",
        "        \"\"\"Utility function to normalize a tensor by its L2 norm\"\"\"\n",
        "        return (x + 1e-10) / (K.sqrt(K.mean(K.square(x))) + 1e-10)\n",
        "    \"\"\"GradCAM method for visualizing input saliency.\"\"\"\n",
        "    y_c = input_model.output\n",
        "    conv_output = input_model.get_layer(layer_name).output\n",
        "    feedforward1 = keras.models.Model([input_model.input], [conv_output, y_c])\n",
        "    with tf.GradientTape() as tape:\n",
        "        ff_results=feedforward1([image])\n",
        "        all_fmap_masks, predictions = ff_results[0], ff_results[-1]\n",
        "        loss = predictions[:, cls]\n",
        "    grads_val = tape.gradient(loss, all_fmap_masks)\n",
        "    if len(image.shape)==3:\n",
        "        axis=(0, 1)\n",
        "    elif len(image.shape)==4:\n",
        "        axis=(0, 1, 2)\n",
        "    weights = np.mean(grads_val, axis=axis)\n",
        "    cam = np.dot(all_fmap_masks[0], weights)\n",
        "    H,W= image.shape[1:3]\n",
        "    cam = np.maximum(cam, 0)\n",
        "    cam = zoom(cam,H/cam.shape[0])\n",
        "    cam = cam / cam.max()\n",
        "    return cam\n",
        "\t\n",
        "def RISE(img, model, class_index, N_MASKS=8000, H=224, W=224, C=3):\n",
        "    '''\n",
        "\timg: a 3-D input image\n",
        "\tmodel: a trained model\n",
        "\tclass_index; The class of interest\n",
        "\tN_MASKS: The number of random masks to be generated\n",
        "\tH,W,C: The desired dimensions of the random masks\n",
        "\t'''\n",
        "    X = np.zeros(shape=(N_MASKS, H, W, C), dtype=np.float32)\n",
        "    masks = np.zeros((N_MASKS,H,W), dtype=np.float32)\n",
        "    #for i in tqdm(range(N_MASKS)):\n",
        "    for i in range(N_MASKS):\n",
        "        m =create_random_mask(H=H, W=W)\n",
        "        masks[i] = m\n",
        "        x = img.copy()\n",
        "\n",
        "        x[:, :, 0] *= m\n",
        "        #x[:, :, 1] *= m\n",
        "        #x[:, :, 2] *= m\n",
        "        X[i] = x\n",
        "    preds_masked = model.predict(X, verbose=0)\n",
        "    sum_mask = np.zeros(masks[0].shape, dtype=np.float32)\n",
        "\n",
        "    # np.einsum???\n",
        "    for i, mask in enumerate(masks):\n",
        "        m = mask * preds_masked[i, class_index]\n",
        "        sum_mask += m\n",
        "\n",
        "    sum_mask -= np.min(sum_mask)\n",
        "    sum_mask /= np.max(sum_mask)\n",
        "    return sum_mask\n"
      ]
    },
    {
      "cell_type": "code",
      "execution_count": null,
      "metadata": {
        "colab": {
          "base_uri": "https://localhost:8080/",
          "height": 1000
        },
        "id": "yFgp5kA5RvID",
        "outputId": "de99da5b-6328-4166-8650-ddcacddd7325"
      },
      "outputs": [
        {
          "output_type": "display_data",
          "data": {
            "text/plain": [
              "<Figure size 1440x360 with 4 Axes>"
            ],
            "image/png": "[encoded data removed]"
          },
          "metadata": {
            "needs_background": "light"
          }
        },
        {
          "output_type": "stream",
          "name": "stdout",
          "text": [
            "1\n"
          ]
        },
        {
          "output_type": "display_data",
          "data": {
            "text/plain": [
              "<Figure size 1440x360 with 4 Axes>"
            ],
            "image/png": "[encoded data removed]"
          },
          "metadata": {
            "needs_background": "light"
          }
        },
        {
          "output_type": "stream",
          "name": "stdout",
          "text": [
            "2\n"
          ]
        },
        {
          "output_type": "display_data",
          "data": {
            "text/plain": [
              "<Figure size 1440x360 with 4 Axes>"
            ],
            "image/png": "[encoded data removed]"
          },
          "metadata": {
            "needs_background": "light"
          }
        },
        {
          "output_type": "stream",
          "name": "stdout",
          "text": [
            "3\n"
          ]
        },
        {
          "output_type": "display_data",
          "data": {
            "text/plain": [
              "<Figure size 1440x360 with 4 Axes>"
            ],
            "image/png": "[encoded data removed]"
          },
          "metadata": {
            "needs_background": "light"
          }
        },
        {
          "output_type": "stream",
          "name": "stdout",
          "text": [
            "4\n"
          ]
        },
        {
          "output_type": "display_data",
          "data": {
            "text/plain": [
              "<Figure size 1440x360 with 4 Axes>"
            ],
            "image/png": "[encoded data removed]"
          },
          "metadata": {
            "needs_background": "light"
          }
        },
        {
          "output_type": "stream",
          "name": "stdout",
          "text": [
            "5\n"
          ]
        },
        {
          "output_type": "display_data",
          "data": {
            "text/plain": [
              "<Figure size 1440x360 with 4 Axes>"
            ],
            "image/png": "[encoded data removed]"
          },
          "metadata": {
            "needs_background": "light"
          }
        },
        {
          "output_type": "stream",
          "name": "stdout",
          "text": [
            "6\n"
          ]
        },
        {
          "output_type": "display_data",
          "data": {
            "text/plain": [
              "<Figure size 1440x360 with 4 Axes>"
            ],
            "image/png": "[encoded data removed]"
          },
          "metadata": {
            "needs_background": "light"
          }
        },
        {
          "output_type": "stream",
          "name": "stdout",
          "text": [
            "7\n"
          ]
        },
        {
          "output_type": "display_data",
          "data": {
            "text/plain": [
              "<Figure size 1440x360 with 4 Axes>"
            ],
            "image/png": "[encoded data removed]"
          },
          "metadata": {
            "needs_background": "light"
          }
        },
        {
          "output_type": "stream",
          "name": "stdout",
          "text": [
            "8\n"
          ]
        },
        {
          "output_type": "display_data",
          "data": {
            "text/plain": [
              "<Figure size 1440x360 with 4 Axes>"
            ],
            "image/png": "[encoded data removed]"
          },
          "metadata": {
            "needs_background": "light"
          }
        },
        {
          "output_type": "stream",
          "name": "stdout",
          "text": [
            "9\n"
          ]
        },
        {
          "output_type": "display_data",
          "data": {
            "text/plain": [
              "<Figure size 1440x360 with 4 Axes>"
            ],
            "image/png": "[encoded data removed]"
          },
          "metadata": {
            "needs_background": "light"
          }
        },
        {
          "output_type": "stream",
          "name": "stdout",
          "text": [
            "10\n"
          ]
        }
      ],
      "source": [
        "# your code start from here for step 9\n",
        "batched_train_iter = mnist_train.__iter__()\n",
        "\n",
        "k = 0\n",
        "index = 70\n",
        "for next_batch in batched_train_iter:   \n",
        "    #print(np.array(next_batch[0]).shape)   #image\n",
        "    image_batch = next_batch[0]\n",
        "    prediction_teacher = cnn_model.predict(image_batch) \n",
        "    prediction_student = fc_model.predict(image_batch) \n",
        "    label = next_batch[1]\n",
        "    #print(np.array(next_batch[1]).shape)   #label\n",
        "    \n",
        "    img = np.array(image_batch[index])\n",
        "\n",
        "    explanation_map_RISE1 = RISE(img, cnn_model, class_index=np.argmax(prediction_teacher[index]) ,N_MASKS=1000,H=28, W=28, C=1)  #\n",
        "    explanation_map_RISE1 -= explanation_map_RISE1.min()\n",
        "    explanation_map_RISE1 /= explanation_map_RISE1.max()+10e-30\n",
        "\n",
        "    explanation_map_RISE2 = RISE(img, fc_model, class_index=np.argmax(prediction_student[index]) ,N_MASKS=1000,H=28, W=28, C=1)\n",
        "    explanation_map_RISE2 -= explanation_map_RISE2.min()\n",
        "    explanation_map_RISE2 /= explanation_map_RISE2.max()+10e-30\n",
        "\n",
        "    explanation_map_RISE3 = RISE(img, fc_model_no_distillation, class_index=np.argmax(prediction_student[index]) ,N_MASKS=1000,H=28, W=28, C=1)\n",
        "    explanation_map_RISE3 -= explanation_map_RISE3.min()\n",
        "    explanation_map_RISE3 /= explanation_map_RISE3.max()+10e-30\n",
        "\n",
        "    plt.figure(figsize=(20,5))\n",
        "    plt.subplot(1,4,1)\n",
        "    plt.imshow(img[:,:,0])\n",
        "    plt.axis('off')\n",
        "    plt.title('Sample image')\n",
        "\n",
        "    plt.subplot(1,4,2)\n",
        "    plt.imshow(img[:,:,0])\n",
        "    plt.imshow(explanation_map_RISE1, cmap='jet', alpha=0.5)\n",
        "    plt.axis('off')\n",
        "    plt.title('Explanation map teacher)')\n",
        "\n",
        "    plt.subplot(1,4,3)\n",
        "    plt.imshow(img[:,:,0])\n",
        "    plt.imshow(explanation_map_RISE2, cmap='jet', alpha=0.5)\n",
        "    plt.axis('off')\n",
        "    plt.title('Explanation map student with KD')\n",
        "\n",
        "    plt.subplot(1,4,4)\n",
        "    plt.imshow(img[:,:,0])\n",
        "    plt.imshow(explanation_map_RISE3, cmap='jet', alpha=0.5)\n",
        "    plt.axis('off')\n",
        "    plt.title('Explanation map student without KD')\n",
        "    plt.show()\n",
        "\n",
        "    k += 1\n",
        "    print(k)\n",
        "    if k == 10:\n",
        "      break"
      ]
    },
    {
      "cell_type": "markdown",
      "metadata": {
        "id": "KjwJ5oziRvRn"
      },
      "source": [
        "# Implementing the state-of-the-art KD algorithm"
      ]
    },
    {
      "cell_type": "markdown",
      "metadata": {
        "id": "idN4hftz5g2n"
      },
      "source": [
        "Distillation Loss"
      ]
    },
    {
      "cell_type": "code",
      "execution_count": null,
      "metadata": {
        "id": "YJUMqHLJZvwL"
      },
      "outputs": [],
      "source": [
        "from tensorflow.python.ops.math_ops import reduce_sum\n",
        "import torch\n",
        "import torch.nn as nn\n",
        "import math\n",
        "\n",
        "# Hyperparameters for distillation (need to be tuned).\n",
        "ALPHA = 0.5 # task balance between cross-entropy and distillation loss\n",
        "DISTILLATION_TEMPERATURE = 0.05 #temperature hyperparameter #2\n",
        "batch_size = 256\n",
        "\n",
        "def distillation_loss_improved(teacher_logits: tf.Tensor, student_logits: tf.Tensor,\n",
        "                      temperature: Union[float, tf.Tensor]):\n",
        "\n",
        "  N = teacher_logits.shape[0]\n",
        "  #mask for correlated samples\n",
        "  mask = torch.ones((2*N, 2*N), dtype=bool)\n",
        "  mask.fill_diagonal_(0)\n",
        "  for i in range(N):\n",
        "      mask[i, N+i] = 0\n",
        "      mask[N+i, i] = 0\n",
        "\n",
        "  z = tf.concat([student_logits,teacher_logits],0)\n",
        "  z = np.array(z)\n",
        "  a1 = np.zeros([2*N,2*N,teacher_logits.shape[1]])\n",
        "  for i in range(2*N):\n",
        "    a1[i,:,:] = z\n",
        "  a2 = np.zeros([2*N,2*N,teacher_logits.shape[1]])\n",
        "  for i in range(2*N):\n",
        "    a2[:,i,:] = z\n",
        "  sim = tf.keras.losses.cosine_similarity(a1, a2,axis=2)\n",
        "  sim = np.array(sim)\n",
        "  sim = abs(sim)\n",
        "\n",
        "  negative_samples = np.array(sim[mask]).reshape(4*N*(N-1),1)\n",
        "  negative_samples = -negative_samples/temperature\n",
        "  negative_samples = 1 - 1/(tf.exp(negative_samples)+1)\n",
        "  negative_samples = tf.math.log(negative_samples)\n",
        "  negative_loss = tf.reduce_mean(negative_samples)\n",
        "  negative_loss = tf.cast(negative_loss, tf.float32)\n",
        "\n",
        "  positive_samples = tf.keras.losses.cosine_similarity(teacher_logits,student_logits)\n",
        "  positive_samples = -positive_samples/temperature\n",
        "  positive_samples = 1/(tf.exp(positive_samples)+1)\n",
        "  positive_samples = tf.math.log(positive_samples)\n",
        "  positive_loss = tf.reduce_mean(positive_samples)\n",
        "  positive_loss = tf.cast(positive_loss, tf.float32)\n",
        "  loss = positive_loss + negative_loss\n",
        "  return loss"
      ]
    },
    {
      "cell_type": "markdown",
      "metadata": {
        "id": "fOjfob5U5_8G"
      },
      "source": [
        "Student loss"
      ]
    },
    {
      "cell_type": "code",
      "execution_count": null,
      "metadata": {
        "id": "rsU1rYWaDlGL"
      },
      "outputs": [],
      "source": [
        "\n",
        "\n",
        "def compute_student_loss_new(images, labels):\n",
        "  \"\"\"Compute subclass knowledge distillation student loss for given images\n",
        "     and labels.\n",
        "\n",
        "  Args:\n",
        "    images: Tensor representing a batch of images.\n",
        "    labels: Tensor representing a batch of labels.\n",
        "\n",
        "  Returns:\n",
        "    Scalar loss Tensor.\n",
        "  \"\"\"\n",
        "  student_subclass_logits = fc_model(images, training=True)\n",
        "\n",
        "  # Compute subclass distillation loss between student subclass logits and\n",
        "  # softened teacher subclass targets probabilities.\n",
        "\n",
        "  # your code start from here for step 3\n",
        "\n",
        "  teacher_subclass_logits = cnn_model(images, training=False)\n",
        "  distillation_loss_value = distillation_loss_improved(teacher_subclass_logits, student_subclass_logits,\n",
        "                      DISTILLATION_TEMPERATURE)\n",
        "  #print(\"distillation_loss_value\")\n",
        "  #print(distillation_loss_value)\n",
        "  \n",
        "  # Compute cross-entropy loss with hard targets.\n",
        "\n",
        "  # your code start from here for step 3\n",
        "\n",
        "  #cross_entropy_loss_value = keras.backend.softmax(student_subclass_logits)\n",
        "  cce = tf.keras.losses.CategoricalCrossentropy(from_logits=True)\n",
        "  cross_entropy_loss_value = cce(labels, student_subclass_logits)\n",
        "  #print(\"loss\")\n",
        "  #print(cross_entropy_loss_value)\n",
        "  #print(distillation_loss_value)\n",
        "  return ALPHA * cross_entropy_loss_value + (1- ALPHA) * distillation_loss_value\n",
        "    \n"
      ]
    },
    {
      "cell_type": "markdown",
      "metadata": {
        "id": "75c9ncp-4KWU"
      },
      "source": [
        "Train Student Model"
      ]
    },
    {
      "cell_type": "code",
      "execution_count": null,
      "metadata": {
        "colab": {
          "base_uri": "https://localhost:8080/"
        },
        "id": "9eb66nZCtaCK",
        "outputId": "881bb579-e13d-468e-f33d-34b77c4c7b5e"
      },
      "outputs": [
        {
          "output_type": "stream",
          "name": "stdout",
          "text": [
            "Epoch 1: "
          ]
        },
        {
          "output_type": "stream",
          "name": "stderr",
          "text": [
            "/usr/local/lib/python3.7/dist-packages/ipykernel_launcher.py:55: VisibleDeprecationWarning: Creating an ndarray from ragged nested sequences (which is a list-or-tuple of lists-or-tuples-or ndarrays with different lengths or shapes) is deprecated. If you meant to do this, you must specify 'dtype=object' when creating the ndarray.\n"
          ]
        },
        {
          "output_type": "stream",
          "name": "stdout",
          "text": [
            "Class_accuracy: 97.40%\n",
            "Epoch 2: Class_accuracy: 98.17%\n",
            "Epoch 3: Class_accuracy: 98.42%\n",
            "Epoch 4: Class_accuracy: 98.55%\n",
            "Epoch 5: Class_accuracy: 98.60%\n",
            "Epoch 6: Class_accuracy: 98.62%\n",
            "Epoch 7: Class_accuracy: 98.79%\n",
            "Epoch 8: Class_accuracy: 98.73%\n",
            "Epoch 9: Class_accuracy: 98.83%\n",
            "Epoch 10: Class_accuracy: 98.75%\n",
            "Epoch 11: Class_accuracy: 98.84%\n",
            "Epoch 12: Class_accuracy: 98.84%\n"
          ]
        }
      ],
      "source": [
        "fc_model = tf.keras.Sequential() \n",
        "fc_model.add(layers.Flatten()) \n",
        "fc_model.add(layers.Dense(784,activation='relu')) \n",
        "fc_model.add(layers.Dense(784,activation='relu')) \n",
        "fc_model.add(layers.Dense(10)) \n",
        "fc_model.build((256, 28, 28, 1)) \n",
        "train_and_evaluate(fc_model, compute_student_loss_new)"
      ]
    }
  ],
  "metadata": {
    "accelerator": "GPU",
    "colab": {
      "collapsed_sections": [],
      "name": "Task1.ipynb",
      "provenance": []
    },
    "kernelspec": {
      "display_name": "Python 3",
      "name": "python3"
    },
    "language_info": {
      "name": "python"
    },
    "widgets": {
      "application/vnd.jupyter.widget-state+json": {
        "09f90585373846c9bb21e78efa73a5d4": {
          "model_module": "@jupyter-widgets/controls",
          "model_name": "HBoxModel",
          "model_module_version": "1.5.0",
          "state": {
            "_dom_classes": [],
            "_model_module": "@jupyter-widgets/controls",
            "_model_module_version": "1.5.0",
            "_model_name": "HBoxModel",
            "_view_count": null,
            "_view_module": "@jupyter-widgets/controls",
            "_view_module_version": "1.5.0",
            "_view_name": "HBoxView",
            "box_style": "",
            "children": [
              "IPY_MODEL_edab666a3085415a8d119dfe0462b8ba",
              "IPY_MODEL_ed7c8ccd23f349dd9684e4361844c0df",
              "IPY_MODEL_8c2ff90bcb364a2fae6f8a8f9a65dd18"
            ],
            "layout": "IPY_MODEL_7490e9ba964e4484a29278302ba87294"
          }
        },
        "edab666a3085415a8d119dfe0462b8ba": {
          "model_module": "@jupyter-widgets/controls",
          "model_name": "HTMLModel",
          "model_module_version": "1.5.0",
          "state": {
            "_dom_classes": [],
            "_model_module": "@jupyter-widgets/controls",
            "_model_module_version": "1.5.0",
            "_model_name": "HTMLModel",
            "_view_count": null,
            "_view_module": "@jupyter-widgets/controls",
            "_view_module_version": "1.5.0",
            "_view_name": "HTMLView",
            "description": "",
            "description_tooltip": null,
            "layout": "IPY_MODEL_95ec4c96d86049b3a40d8a4b980dbf07",
            "placeholder": "​",
            "style": "IPY_MODEL_d2baab0cfb564b7789e71a33c9d50300",
            "value": "Dl Completed...: 100%"
          }
        },
        "ed7c8ccd23f349dd9684e4361844c0df": {
          "model_module": "@jupyter-widgets/controls",
          "model_name": "FloatProgressModel",
          "model_module_version": "1.5.0",
          "state": {
            "_dom_classes": [],
            "_model_module": "@jupyter-widgets/controls",
            "_model_module_version": "1.5.0",
            "_model_name": "FloatProgressModel",
            "_view_count": null,
            "_view_module": "@jupyter-widgets/controls",
            "_view_module_version": "1.5.0",
            "_view_name": "ProgressView",
            "bar_style": "success",
            "description": "",
            "description_tooltip": null,
            "layout": "IPY_MODEL_8664399bc4a54e928e1c85d339fdc5c8",
            "max": 4,
            "min": 0,
            "orientation": "horizontal",
            "style": "IPY_MODEL_524c623dc49b434da40ea76c291032bf",
            "value": 4
          }
        },
        "8c2ff90bcb364a2fae6f8a8f9a65dd18": {
          "model_module": "@jupyter-widgets/controls",
          "model_name": "HTMLModel",
          "model_module_version": "1.5.0",
          "state": {
            "_dom_classes": [],
            "_model_module": "@jupyter-widgets/controls",
            "_model_module_version": "1.5.0",
            "_model_name": "HTMLModel",
            "_view_count": null,
            "_view_module": "@jupyter-widgets/controls",
            "_view_module_version": "1.5.0",
            "_view_name": "HTMLView",
            "description": "",
            "description_tooltip": null,
            "layout": "IPY_MODEL_aa54e3844041417c856a2ac4a024fc23",
            "placeholder": "​",
            "style": "IPY_MODEL_2e77dbdd276a49f596f29c4f7f5079eb",
            "value": " 4/4 [00:00&lt;00:00, 12.17 file/s]"
          }
        },
        "7490e9ba964e4484a29278302ba87294": {
          "model_module": "@jupyter-widgets/base",
          "model_name": "LayoutModel",
          "model_module_version": "1.2.0",
          "state": {
            "_model_module": "@jupyter-widgets/base",
            "_model_module_version": "1.2.0",
            "_model_name": "LayoutModel",
            "_view_count": null,
            "_view_module": "@jupyter-widgets/base",
            "_view_module_version": "1.2.0",
            "_view_name": "LayoutView",
            "align_content": null,
            "align_items": null,
            "align_self": null,
            "border": null,
            "bottom": null,
            "display": null,
            "flex": null,
            "flex_flow": null,
            "grid_area": null,
            "grid_auto_columns": null,
            "grid_auto_flow": null,
            "grid_auto_rows": null,
            "grid_column": null,
            "grid_gap": null,
            "grid_row": null,
            "grid_template_areas": null,
            "grid_template_columns": null,
            "grid_template_rows": null,
            "height": null,
            "justify_content": null,
            "justify_items": null,
            "left": null,
            "margin": null,
            "max_height": null,
            "max_width": null,
            "min_height": null,
            "min_width": null,
            "object_fit": null,
            "object_position": null,
            "order": null,
            "overflow": null,
            "overflow_x": null,
            "overflow_y": null,
            "padding": null,
            "right": null,
            "top": null,
            "visibility": null,
            "width": null
          }
        },
        "95ec4c96d86049b3a40d8a4b980dbf07": {
          "model_module": "@jupyter-widgets/base",
          "model_name": "LayoutModel",
          "model_module_version": "1.2.0",
          "state": {
            "_model_module": "@jupyter-widgets/base",
            "_model_module_version": "1.2.0",
            "_model_name": "LayoutModel",
            "_view_count": null,
            "_view_module": "@jupyter-widgets/base",
            "_view_module_version": "1.2.0",
            "_view_name": "LayoutView",
            "align_content": null,
            "align_items": null,
            "align_self": null,
            "border": null,
            "bottom": null,
            "display": null,
            "flex": null,
            "flex_flow": null,
            "grid_area": null,
            "grid_auto_columns": null,
            "grid_auto_flow": null,
            "grid_auto_rows": null,
            "grid_column": null,
            "grid_gap": null,
            "grid_row": null,
            "grid_template_areas": null,
            "grid_template_columns": null,
            "grid_template_rows": null,
            "height": null,
            "justify_content": null,
            "justify_items": null,
            "left": null,
            "margin": null,
            "max_height": null,
            "max_width": null,
            "min_height": null,
            "min_width": null,
            "object_fit": null,
            "object_position": null,
            "order": null,
            "overflow": null,
            "overflow_x": null,
            "overflow_y": null,
            "padding": null,
            "right": null,
            "top": null,
            "visibility": null,
            "width": null
          }
        },
        "d2baab0cfb564b7789e71a33c9d50300": {
          "model_module": "@jupyter-widgets/controls",
          "model_name": "DescriptionStyleModel",
          "model_module_version": "1.5.0",
          "state": {
            "_model_module": "@jupyter-widgets/controls",
            "_model_module_version": "1.5.0",
            "_model_name": "DescriptionStyleModel",
            "_view_count": null,
            "_view_module": "@jupyter-widgets/base",
            "_view_module_version": "1.2.0",
            "_view_name": "StyleView",
            "description_width": ""
          }
        },
        "8664399bc4a54e928e1c85d339fdc5c8": {
          "model_module": "@jupyter-widgets/base",
          "model_name": "LayoutModel",
          "model_module_version": "1.2.0",
          "state": {
            "_model_module": "@jupyter-widgets/base",
            "_model_module_version": "1.2.0",
            "_model_name": "LayoutModel",
            "_view_count": null,
            "_view_module": "@jupyter-widgets/base",
            "_view_module_version": "1.2.0",
            "_view_name": "LayoutView",
            "align_content": null,
            "align_items": null,
            "align_self": null,
            "border": null,
            "bottom": null,
            "display": null,
            "flex": null,
            "flex_flow": null,
            "grid_area": null,
            "grid_auto_columns": null,
            "grid_auto_flow": null,
            "grid_auto_rows": null,
            "grid_column": null,
            "grid_gap": null,
            "grid_row": null,
            "grid_template_areas": null,
            "grid_template_columns": null,
            "grid_template_rows": null,
            "height": null,
            "justify_content": null,
            "justify_items": null,
            "left": null,
            "margin": null,
            "max_height": null,
            "max_width": null,
            "min_height": null,
            "min_width": null,
            "object_fit": null,
            "object_position": null,
            "order": null,
            "overflow": null,
            "overflow_x": null,
            "overflow_y": null,
            "padding": null,
            "right": null,
            "top": null,
            "visibility": null,
            "width": null
          }
        },
        "524c623dc49b434da40ea76c291032bf": {
          "model_module": "@jupyter-widgets/controls",
          "model_name": "ProgressStyleModel",
          "model_module_version": "1.5.0",
          "state": {
            "_model_module": "@jupyter-widgets/controls",
            "_model_module_version": "1.5.0",
            "_model_name": "ProgressStyleModel",
            "_view_count": null,
            "_view_module": "@jupyter-widgets/base",
            "_view_module_version": "1.2.0",
            "_view_name": "StyleView",
            "bar_color": null,
            "description_width": ""
          }
        },
        "aa54e3844041417c856a2ac4a024fc23": {
          "model_module": "@jupyter-widgets/base",
          "model_name": "LayoutModel",
          "model_module_version": "1.2.0",
          "state": {
            "_model_module": "@jupyter-widgets/base",
            "_model_module_version": "1.2.0",
            "_model_name": "LayoutModel",
            "_view_count": null,
            "_view_module": "@jupyter-widgets/base",
            "_view_module_version": "1.2.0",
            "_view_name": "LayoutView",
            "align_content": null,
            "align_items": null,
            "align_self": null,
            "border": null,
            "bottom": null,
            "display": null,
            "flex": null,
            "flex_flow": null,
            "grid_area": null,
            "grid_auto_columns": null,
            "grid_auto_flow": null,
            "grid_auto_rows": null,
            "grid_column": null,
            "grid_gap": null,
            "grid_row": null,
            "grid_template_areas": null,
            "grid_template_columns": null,
            "grid_template_rows": null,
            "height": null,
            "justify_content": null,
            "justify_items": null,
            "left": null,
            "margin": null,
            "max_height": null,
            "max_width": null,
            "min_height": null,
            "min_width": null,
            "object_fit": null,
            "object_position": null,
            "order": null,
            "overflow": null,
            "overflow_x": null,
            "overflow_y": null,
            "padding": null,
            "right": null,
            "top": null,
            "visibility": null,
            "width": null
          }
        },
        "2e77dbdd276a49f596f29c4f7f5079eb": {
          "model_module": "@jupyter-widgets/controls",
          "model_name": "DescriptionStyleModel",
          "model_module_version": "1.5.0",
          "state": {
            "_model_module": "@jupyter-widgets/controls",
            "_model_module_version": "1.5.0",
            "_model_name": "DescriptionStyleModel",
            "_view_count": null,
            "_view_module": "@jupyter-widgets/base",
            "_view_module_version": "1.2.0",
            "_view_name": "StyleView",
            "description_width": ""
          }
        }
      }
    }
  },
  "nbformat": 4,
  "nbformat_minor": 0
}